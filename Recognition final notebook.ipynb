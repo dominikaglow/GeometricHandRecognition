version https://git-lfs.github.com/spec/v1
oid sha256:f8e2c8b0f130ae77ee97742e94d651408035b363d702ff421fbd9d4c84e017c0
size 25240
