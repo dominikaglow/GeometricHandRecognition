version https://git-lfs.github.com/spec/v1
oid sha256:7a9fe10802e3b7152aca49a1eafb266ace45f19e28963b98c52f429990777ccd
size 103972721
