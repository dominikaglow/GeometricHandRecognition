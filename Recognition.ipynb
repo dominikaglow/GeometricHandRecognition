version https://git-lfs.github.com/spec/v1
oid sha256:60d95eae89476108b722fb006ef877064d57f52989812545070b56817055ddd8
size 23550
